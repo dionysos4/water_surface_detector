{
 "cells": [
  {
   "cell_type": "code",
   "execution_count": 1,
   "metadata": {},
   "outputs": [
    {
     "name": "stdout",
     "output_type": "stream",
     "text": [
      "Jupyter environment detected. Enabling Open3D WebVisualizer.\n",
      "[Open3D INFO] WebRTC GUI backend enabled.\n",
      "[Open3D INFO] WebRTCWindowSystem: HTTP handshake server disabled.\n"
     ]
    }
   ],
   "source": [
    "%load_ext autoreload\n",
    "%autoreload 2\n",
    "from utils import dataloader, utils, calibrate_imu_stereo\n",
    "import torch\n",
    "from models.vgg_encoder_decoder import VGGNet, FCN8s\n",
    "from torchvision import transforms\n",
    "import matplotlib.pyplot as plt\n",
    "import cv2\n",
    "from scipy.spatial.transform import Rotation\n",
    "import numpy as np\n",
    "import math\n",
    "from tqdm import tqdm\n",
    "import gc"
   ]
  },
  {
   "cell_type": "markdown",
   "metadata": {},
   "source": [
    "### returns imu and stereo rotation matrices for a sequence"
   ]
  },
  {
   "cell_type": "code",
   "execution_count": 2,
   "metadata": {},
   "outputs": [],
   "source": [
    "def rots_per_sequence(dataset, model, norm, calibration_mat):\n",
    "    \"\"\"\n",
    "    Computes roll and pitch via stereo and aligns it to the imu. Performs it on the whole sequence.\n",
    "    \n",
    "    Parameters\n",
    "    ----------\n",
    "    dataset : torch dataset\n",
    "        contains stereo images, calibration data and imu data\n",
    "    model : nn.Model\n",
    "        segmentation CNN (VGG based Encoder Decoder)\n",
    "    norm : torch transformation\n",
    "        function to normalize images for CNN input\n",
    "    calibration_mat : np.array\n",
    "        calibration matrix to align stereo and imu\n",
    "    return: tuple\n",
    "        tuple[0] : stereo estimated orientation as 3x3 matrix (already calibrated to imu)\n",
    "        tuple[1] : imu orientation as 3x3 matrix\n",
    "    \"\"\"\n",
    "    imu_roll_l = []\n",
    "    imu_pitch_l = []\n",
    "    stereo_roll_l = []\n",
    "    stereo_pitch_l = []\n",
    "    stereo_calibrated_mats = []\n",
    "    stereo_uncalibrated_mats = []\n",
    "    imu_mats = []\n",
    "\n",
    "    for j in tqdm(range(len(dataset))):\n",
    "        sample = dataset[j]\n",
    "        \n",
    "        img_l = sample[\"img_l\"] / 255\n",
    "        K_l = sample[\"K_l\"]\n",
    "        D_l = sample[\"D_l\"]\n",
    "        R_l = sample[\"R_l\"]\n",
    "        P_l = sample[\"P_l\"]\n",
    "        img_r = sample[\"img_r\"] / 255\n",
    "        K_r = sample[\"K_r\"]\n",
    "        D_r = sample[\"D_r\"]\n",
    "        R_r = sample[\"R_r\"]\n",
    "        P_r = sample[\"P_r\"]\n",
    "        R = sample[\"R\"]\n",
    "        T = sample[\"T\"]\n",
    "        imu = sample[\"imu\"]\n",
    "    \n",
    "        # Intrisic rotation aerospace sequence (Z-Y’-X”) yaw, pitch and roll\n",
    "        # quaternion to matrix conversion: https://www.euclideanspace.com/maths/geometry/rotations/conversions/quaternionToMatrix/index.htm\n",
    "        imu = Rotation.from_quat(imu).as_euler(\"ZYX\", degrees=False)\n",
    "        imu_mat = Rotation.from_euler(\"ZYX\", [0., imu[1], imu[2]], degrees=False).as_matrix()\n",
    "\n",
    "        map1_left, map2_left = cv2.initUndistortRectifyMap(K_l, D_l, R_l, P_l, (img_l.shape[1], img_l.shape[0]), cv2.CV_32FC1)\n",
    "        map1_right, map2_right = cv2.initUndistortRectifyMap(K_r, D_r, R_r, P_r, (img_r.shape[1], img_r.shape[0]), cv2.CV_32FC1)\n",
    "        \n",
    "        img_l = cv2.remap(img_l, map1_left, map2_left, cv2.INTER_LINEAR)\n",
    "        img_r = cv2.remap(img_r, map1_right, map2_right, cv2.INTER_LINEAR)\n",
    "\n",
    "\n",
    "        ################ estimate horizon with plane regression ####################################################################\n",
    "        res_img = cv2.resize(img_l, dsize=(960, 640), interpolation=cv2.INTER_CUBIC)\n",
    "        # Perform forward pass with resized image as input tensor\n",
    "        trans1 = transforms.ToTensor()\n",
    "        input_tensor = norm(trans1(res_img)).to(\"cuda:0\")\n",
    "        with torch.no_grad():\n",
    "            output = model(input_tensor.unsqueeze(0).float())\n",
    "\n",
    "        # Binarize output with a high threshold (less false positives (but also less true positives))\n",
    "        output = utils.binarize(torch.squeeze(output.data.cpu()), activation=\"sigmoid\", threshold=0.5).numpy()\n",
    "        res_out = cv2.resize(output, dsize=(img_l.shape[1], img_l.shape[0]), interpolation=cv2.INTER_CUBIC)\n",
    "        res_out *= 255\n",
    "        res_out = res_out.astype(np.uint8)\n",
    "        # # Mask original image\n",
    "        img_l_masked = cv2.bitwise_and(img_l, img_l, mask = res_out)\n",
    "\n",
    "        img_l_masked_resized, img_r_resized, P_l_resize, P_r_resize = utils.resize_img_and_projection(img_l_masked, img_r, P_l, P_r, 0.5)\n",
    "\n",
    "        pc_water, disparity = utils.compute_pointcloud((img_l_masked_resized * 255).astype(\"uint8\"), (img_r_resized * 255).astype(\"uint8\"), \n",
    "                                                        P_l_resize, P_r_resize, minDisparity=0, numDisparities=160, blocksize=9)\n",
    "        #######################################\n",
    "        pc_water = pc_water[pc_water[:,2]<=40]\n",
    "\n",
    "        normal, support = utils.calc_plane(pc_water, var_index=[0,2,1])\n",
    "        normal = np.asarray(normal)\n",
    "        support = np.asarray(support)\n",
    "        normal = 1 / np.sqrt(np.sum(normal**2)) * normal\n",
    "                \n",
    "        roll, pitch = utils.normal_to_euler(normal, degrees=False)\n",
    "        stereo_uncalibrated_mat = Rotation.from_euler(\"ZYX\", [0., pitch, roll], degrees=False).as_matrix()\n",
    "        stereo_calibrated_mat = np.dot(stereo_uncalibrated_mat, calibration_mat)\n",
    "        stereo_uncalibrated_mats.append(stereo_uncalibrated_mat)\n",
    "        stereo_calibrated_mats.append(stereo_calibrated_mat)\n",
    "        imu_mats.append(imu_mat)\n",
    "                \n",
    "    return stereo_calibrated_mats, imu_mats"
   ]
  },
  {
   "cell_type": "markdown",
   "metadata": {},
   "source": [
    "### average misorientation angle (https://jsdajournal.springeropen.com/articles/10.1186/s40488-015-0032-x)"
   ]
  },
  {
   "cell_type": "code",
   "execution_count": 3,
   "metadata": {},
   "outputs": [],
   "source": [
    "def print_ama(imu_mats, stereo_mats):\n",
    "    \"\"\"\n",
    "    Computes and prints the AMA and confidence intervals\n",
    "    \n",
    "    Parameters\n",
    "    ----------\n",
    "    imu_mats : list\n",
    "        list of imu measurements per timestep (3x3 matrices) \n",
    "    stereo_mats : list\n",
    "        list of stereo estimated orientation per timestep (3x3 matrices)\n",
    "    \"\"\"\n",
    "    ### create dataset for bootstrapping\n",
    "    diff_mats = []\n",
    "    for i in range(len(imu_mats)):\n",
    "        stereo_calibrated_mat = stereo_mats[i]\n",
    "        imu_mat = imu_mats[i]\n",
    "        diff_mats.append(np.dot(imu_mat, stereo_calibrated_mat.T))\n",
    "    diff_mats = np.array(diff_mats)\n",
    "\n",
    "    ### compute average misorientation angle\n",
    "    sum_diff_mats = np.zeros((3,3))\n",
    "    for i in range(diff_mats.shape[0]):\n",
    "        sum_diff_mats += diff_mats[i]\n",
    "    avg_diff_mat = sum_diff_mats / diff_mats.shape[0]\n",
    "    U,S,W = np.linalg.svd(avg_diff_mat)\n",
    "    M = np.dot(U,W)\n",
    "\n",
    "    AMA = []\n",
    "    for i in range(diff_mats.shape[0]):\n",
    "        mis = np.arccos((np.trace(np.dot(diff_mats[i].T, M)) -1) / 2)\n",
    "        AMA.append(mis)\n",
    "    print(\"Misorientation angle in degree: \", np.mean(np.degrees(AMA)))\n",
    "\n",
    "\n",
    "    ### Bootstrapping ###\n",
    "    bootstrepping_iterations = 1000\n",
    "    AMA_per_sample = []\n",
    "    for k in range(bootstrepping_iterations):\n",
    "        sample_idx = np.random.randint(0, diff_mats.shape[0], diff_mats.shape[0])\n",
    "        sample = diff_mats[sample_idx]\n",
    "\n",
    "        sum_diff_mats = np.zeros((3,3))\n",
    "        for i in range(sample.shape[0]):\n",
    "            sum_diff_mats += sample[i]\n",
    "        avg_diff_mat = sum_diff_mats / sample.shape[0]\n",
    "        U,S,W = np.linalg.svd(avg_diff_mat)\n",
    "        M = np.dot(U,W)\n",
    "\n",
    "        AMA = []\n",
    "        for i in range(sample.shape[0]):\n",
    "            mis = np.arccos((np.trace(np.dot(sample[i].T, M)) -1) / 2)\n",
    "            AMA.append(mis)\n",
    "\n",
    "        sum_ama = 0\n",
    "        for i in range(len(AMA)):\n",
    "            sum_ama += AMA[i]\n",
    "        AMA_per_sample.append(np.degrees(sum_ama / len(AMA)))\n",
    "\n",
    "    print(\"Confidence Intervalls in degrees (2.5, 97.5) quantile: \", np.quantile(AMA_per_sample, 0.025), np.quantile(AMA_per_sample, 0.975))"
   ]
  },
  {
   "cell_type": "code",
   "execution_count": 4,
   "metadata": {},
   "outputs": [],
   "source": [
    "def get_gyro_measurments(dataset):\n",
    "    \"\"\"\n",
    "    return gyro measurements and integrated orientations\n",
    "    \n",
    "    Parameters\n",
    "    ----------\n",
    "    dataset : torch dataset\n",
    "        contains gyro measurements \n",
    "    \n",
    "    return: tuple\n",
    "        tuple[0] : integrated orientations \n",
    "        tuple[1] : gyro measurements\n",
    "    \"\"\"\n",
    "    integrated_mats = []\n",
    "    gyro_mats = [Rotation.from_quat(dataset[0][\"dq\"]).as_matrix()]\n",
    "    integrated_measurements = Rotation.from_quat(dataset[0][\"imu\"]).as_matrix()\n",
    "    integrated_mats.append(integrated_measurements)\n",
    "    for i in range(1, len(dataset)): \n",
    "        gyro = dataset[i][\"dq\"]\n",
    "        gyro = Rotation.from_quat(gyro).as_matrix()\n",
    "        integrated_measurements = integrated_measurements @ gyro\n",
    "        integrated_mats.append(integrated_measurements)\n",
    "        gyro_mats.append(gyro)\n",
    "    return integrated_mats, gyro_mats"
   ]
  },
  {
   "cell_type": "code",
   "execution_count": 5,
   "metadata": {},
   "outputs": [],
   "source": [
    "def complementary_filter(stereo_mats, gyro_mats):\n",
    "    \"\"\"\n",
    "    Fusion of stereo estimation and gyro data via complementary filter\n",
    "    \n",
    "    Parameters\n",
    "    ----------\n",
    "    stereo_mats : list\n",
    "        contains stereo orientation measurements (3x3 matrices)\n",
    "    gyro_mats : list\n",
    "        contains gyro measurements (3x3 matrices)\n",
    "    \n",
    "    return: list\n",
    "        fused orientation (3x3 matrices)\n",
    "    \"\"\"\n",
    "    roll = 0\n",
    "    pitch = 0\n",
    "    filtered_mats = []\n",
    "    for i in range(len(stereo_mats)):\n",
    "        stereo_euler = Rotation.from_matrix(stereo_mats[i]).as_euler(\"ZYX\", degrees=False)\n",
    "        gyro_euler = Rotation.from_matrix(gyro_mats[i]).as_euler(\"ZYX\", degrees=False)\n",
    "        stereo_pitch = stereo_euler[1]\n",
    "        stereo_roll = stereo_euler[2]\n",
    "        gyro_pitch = gyro_euler[1]\n",
    "        gyro_roll = gyro_euler[2]\n",
    "\n",
    "        # filter\n",
    "        roll = 0.8 * (roll + (gyro_roll * (1. / 1))) + 0.2 * stereo_roll        \n",
    "        pitch = 0.8 * (pitch + (gyro_pitch * (1. / 1))) + 0.2 * stereo_pitch\n",
    "\n",
    "        filtered_mats.append(Rotation.from_euler(\"ZYX\", [0, pitch, roll]).as_matrix())\n",
    "    return filtered_mats"
   ]
  },
  {
   "cell_type": "markdown",
   "metadata": {},
   "source": [
    "### load model parameters"
   ]
  },
  {
   "cell_type": "code",
   "execution_count": 6,
   "metadata": {},
   "outputs": [],
   "source": [
    "VGG_MODEL_PATH = \"models/VGG16_Enc_Dec_Misc_Constance\"\n",
    "device = torch.device('cuda:0' if torch.cuda.is_available() else 'cpu')\n",
    "vgg_model = VGGNet(requires_grad=True, remove_fc=True)\n",
    "model = FCN8s(pretrained_net=vgg_model, n_class=1).to(device)\n",
    "model.load_state_dict(torch.load(VGG_MODEL_PATH))\n",
    "model.eval()\n",
    "# Mean and standard deviation for all channels of the 'WaterMisc' Dataset\n",
    "mean, std = ([0.4454203248023987, 0.4749860167503357, 0.4680652916431427], [0.2575828433036804, 0.2523757517337799, 0.2858140468597412])\n",
    "\n",
    "# Transformation to normalize and unnormalize input images\n",
    "norm = transforms.Normalize(mean, std)"
   ]
  },
  {
   "cell_type": "markdown",
   "metadata": {},
   "source": [
    "#### Calibration Rotation for day_1"
   ]
  },
  {
   "cell_type": "code",
   "execution_count": 7,
   "metadata": {},
   "outputs": [
    {
     "name": "stderr",
     "output_type": "stream",
     "text": [
      "  0%|          | 0/596 [00:00<?, ?it/s]/home/dennis/programs/anaconda3/envs/ros/lib/python3.8/site-packages/torch/nn/functional.py:718: UserWarning: Named tensors and all their associated APIs are an experimental feature and subject to change. Please do not use them for anything important until they are released as stable. (Triggered internally at  /pytorch/c10/core/TensorImpl.h:1156.)\n",
      "  return torch.max_pool2d(input, kernel_size, stride, padding, dilation, ceil_mode)\n",
      "100%|██████████| 596/596 [07:05<00:00,  1.40it/s]\n"
     ]
    }
   ],
   "source": [
    "plt.rcParams['figure.figsize'] = [8, 8]\n",
    "calibration_dataset = dataloader.CONSTANCEDATASET(\"/media/dennis/Extreme SSD/constance_stereo_imu\", day=1, sequence=\"calib\")\n",
    "imu_stereo_calib = calibrate_imu_stereo.ImuStereoCalibration(model, norm, calibration_dataset, seq_from = 0, seq_to = len(calibration_dataset), degrees=True, debug=False, resize_factor=0.5)\n",
    "calibration_mat_day_1 = imu_stereo_calib.calibrate(minDisparity = 0, numDisparities=160, blocksize=9)\n",
    "del calibration_dataset"
   ]
  },
  {
   "cell_type": "markdown",
   "metadata": {},
   "source": [
    "#### Evaluation day 1, sequence 0"
   ]
  },
  {
   "cell_type": "code",
   "execution_count": 8,
   "metadata": {},
   "outputs": [
    {
     "name": "stderr",
     "output_type": "stream",
     "text": [
      "100%|██████████| 753/753 [08:34<00:00,  1.46it/s]\n"
     ]
    },
    {
     "name": "stdout",
     "output_type": "stream",
     "text": [
      "Misorientation angle in degree:  0.1405267720257239\n",
      "Confidence Intervalls in degrees (2.5, 97.5) quantile:  0.13572379799091022 0.14570942937096004\n",
      "Misorientation angle in degree:  11.672481132405375\n",
      "Confidence Intervalls in degrees (2.5, 97.5) quantile:  11.366254421465316 11.95163419191706\n",
      "Misorientation angle in degree:  0.1300481411332243\n",
      "Confidence Intervalls in degrees (2.5, 97.5) quantile:  0.12401130609019569 0.13707435897965245\n"
     ]
    }
   ],
   "source": [
    "dataset_d1_0 = dataloader.CONSTANCEDATASET(\"/media/dennis/Extreme SSD/constance_stereo_imu\", day=1, sequence=\"0\")\n",
    "stereo_mats_0, imu_mats_0 =  rots_per_sequence(dataset_d1_0, model, norm, calibration_mat_day_1)\n",
    "integrated_gyro_mats_0, gyro_mats_0 = get_gyro_measurments(dataset_d1_0)\n",
    "filtered_mats_0 = complementary_filter(stereo_mats_0, gyro_mats_0)\n",
    "print_ama(imu_mats_0, stereo_mats_0)\n",
    "print_ama(imu_mats_0, integrated_gyro_mats_0)\n",
    "print_ama(imu_mats_0, filtered_mats_0)"
   ]
  },
  {
   "cell_type": "code",
   "execution_count": 9,
   "metadata": {},
   "outputs": [],
   "source": [
    "del dataset_d1_0"
   ]
  },
  {
   "cell_type": "markdown",
   "metadata": {},
   "source": [
    "#### Evaluation day 1, sequence 1"
   ]
  },
  {
   "cell_type": "code",
   "execution_count": 10,
   "metadata": {},
   "outputs": [
    {
     "name": "stderr",
     "output_type": "stream",
     "text": [
      "100%|██████████| 1119/1119 [12:58<00:00,  1.44it/s]\n"
     ]
    },
    {
     "name": "stdout",
     "output_type": "stream",
     "text": [
      "Misorientation angle in degree:  0.2038948554180303\n",
      "Confidence Intervalls in degrees (2.5, 97.5) quantile:  0.1949877176653827 0.21449733778612695\n",
      "Misorientation angle in degree:  26.347055061096075\n",
      "Confidence Intervalls in degrees (2.5, 97.5) quantile:  24.866748925873164 27.863978060806993\n",
      "Misorientation angle in degree:  0.1995186421052608\n",
      "Confidence Intervalls in degrees (2.5, 97.5) quantile:  0.18795871759470026 0.21169565886264838\n"
     ]
    }
   ],
   "source": [
    "dataset_d1_1 = dataloader.CONSTANCEDATASET(\"/media/dennis/Extreme SSD/constance_stereo_imu\", day=1, sequence=\"1\")\n",
    "stereo_mats_1, imu_mats_1 =  rots_per_sequence(dataset_d1_1, model, norm, calibration_mat_day_1)\n",
    "integrated_gyro_mats_1, gyro_mats_1 = get_gyro_measurments(dataset_d1_1)\n",
    "filtered_mats_1 = complementary_filter(stereo_mats_1, gyro_mats_1)\n",
    "print_ama(imu_mats_1, stereo_mats_1)\n",
    "print_ama(imu_mats_1, integrated_gyro_mats_1)\n",
    "print_ama(imu_mats_1, filtered_mats_1)"
   ]
  },
  {
   "cell_type": "code",
   "execution_count": 11,
   "metadata": {},
   "outputs": [],
   "source": [
    "del dataset_d1_1"
   ]
  },
  {
   "cell_type": "markdown",
   "metadata": {},
   "source": [
    "#### Evaluation day 1, sequence 2"
   ]
  },
  {
   "cell_type": "code",
   "execution_count": 12,
   "metadata": {},
   "outputs": [
    {
     "name": "stderr",
     "output_type": "stream",
     "text": [
      "100%|██████████| 826/826 [09:16<00:00,  1.48it/s]\n"
     ]
    },
    {
     "name": "stdout",
     "output_type": "stream",
     "text": [
      "Misorientation angle in degree:  0.16713998263932647\n",
      "Confidence Intervalls in degrees (2.5, 97.5) quantile:  0.15999488467746234 0.17421170539080028\n",
      "Misorientation angle in degree:  8.646174361317128\n",
      "Confidence Intervalls in degrees (2.5, 97.5) quantile:  8.40364934973076 8.898534906764347\n",
      "Misorientation angle in degree:  0.12960084563009666\n",
      "Confidence Intervalls in degrees (2.5, 97.5) quantile:  0.12245350983251249 0.13766551045228503\n"
     ]
    }
   ],
   "source": [
    "dataset_d1_2 = dataloader.CONSTANCEDATASET(\"/media/dennis/Extreme SSD/constance_stereo_imu\", day=1, sequence=\"2\")\n",
    "stereo_mats_2, imu_mats_2 =  rots_per_sequence(dataset_d1_2, model, norm, calibration_mat_day_1)\n",
    "integrated_gyro_mats_2, gyro_mats_2 = get_gyro_measurments(dataset_d1_2)\n",
    "filtered_mats_2 = complementary_filter(stereo_mats_2, gyro_mats_2)\n",
    "print_ama(imu_mats_2, stereo_mats_2)\n",
    "print_ama(imu_mats_2, integrated_gyro_mats_2)\n",
    "print_ama(imu_mats_2, filtered_mats_2)"
   ]
  },
  {
   "cell_type": "code",
   "execution_count": 13,
   "metadata": {},
   "outputs": [],
   "source": [
    "del dataset_d1_2"
   ]
  },
  {
   "cell_type": "markdown",
   "metadata": {},
   "source": [
    "#### Evaluation day 1, sequence 3"
   ]
  },
  {
   "cell_type": "code",
   "execution_count": 14,
   "metadata": {},
   "outputs": [
    {
     "name": "stderr",
     "output_type": "stream",
     "text": [
      "100%|██████████| 2390/2390 [28:06<00:00,  1.42it/s]\n"
     ]
    },
    {
     "name": "stdout",
     "output_type": "stream",
     "text": [
      "Misorientation angle in degree:  0.17651464467062228\n",
      "Confidence Intervalls in degrees (2.5, 97.5) quantile:  0.17209247403070724 0.18081391624610849\n",
      "Misorientation angle in degree:  23.86462608361848\n",
      "Confidence Intervalls in degrees (2.5, 97.5) quantile:  23.357280203770312 24.361972648790115\n",
      "Misorientation angle in degree:  0.12282306564668692\n",
      "Confidence Intervalls in degrees (2.5, 97.5) quantile:  0.11657911733497651 0.1305717181232694\n"
     ]
    }
   ],
   "source": [
    "dataset_d1_3 = dataloader.CONSTANCEDATASET(\"/media/dennis/Extreme SSD/constance_stereo_imu\", day=1, sequence=\"3\")\n",
    "stereo_mats_3, imu_mats_3 =  rots_per_sequence(dataset_d1_3, model, norm, calibration_mat_day_1)\n",
    "integrated_gyro_mats_3, gyro_mats_3 = get_gyro_measurments(dataset_d1_3)\n",
    "filtered_mats_3 = complementary_filter(stereo_mats_3, gyro_mats_3)\n",
    "print_ama(imu_mats_3, stereo_mats_3)\n",
    "print_ama(imu_mats_3, integrated_gyro_mats_3)\n",
    "print_ama(imu_mats_3, filtered_mats_3)"
   ]
  },
  {
   "cell_type": "code",
   "execution_count": 15,
   "metadata": {},
   "outputs": [],
   "source": [
    "del dataset_d1_3"
   ]
  },
  {
   "cell_type": "markdown",
   "metadata": {},
   "source": [
    "#### Evaluation day 1, sequence 4"
   ]
  },
  {
   "cell_type": "code",
   "execution_count": 16,
   "metadata": {},
   "outputs": [
    {
     "name": "stderr",
     "output_type": "stream",
     "text": [
      "100%|██████████| 597/597 [06:56<00:00,  1.43it/s]\n"
     ]
    },
    {
     "name": "stdout",
     "output_type": "stream",
     "text": [
      "Misorientation angle in degree:  0.15163037957490844\n",
      "Confidence Intervalls in degrees (2.5, 97.5) quantile:  0.14425592849425542 0.15811573894852182\n",
      "Misorientation angle in degree:  8.180498987118686\n",
      "Confidence Intervalls in degrees (2.5, 97.5) quantile:  7.733577700793308 8.601247347136308\n",
      "Misorientation angle in degree:  0.1358379146221798\n",
      "Confidence Intervalls in degrees (2.5, 97.5) quantile:  0.12602035754918955 0.14736669266110777\n"
     ]
    }
   ],
   "source": [
    "dataset_d1_4 = dataloader.CONSTANCEDATASET(\"/media/dennis/Extreme SSD/constance_stereo_imu\", day=1, sequence=\"4\")\n",
    "stereo_mats_4, imu_mats_4 =  rots_per_sequence(dataset_d1_4, model, norm, calibration_mat_day_1)\n",
    "integrated_gyro_mats_4, gyro_mats_4 = get_gyro_measurments(dataset_d1_4)\n",
    "filtered_mats_4 = complementary_filter(stereo_mats_4, gyro_mats_4)\n",
    "print_ama(imu_mats_4, stereo_mats_4)\n",
    "print_ama(imu_mats_4, integrated_gyro_mats_4)\n",
    "print_ama(imu_mats_4, filtered_mats_4)"
   ]
  },
  {
   "cell_type": "code",
   "execution_count": 17,
   "metadata": {},
   "outputs": [],
   "source": [
    "del dataset_d1_4"
   ]
  },
  {
   "cell_type": "markdown",
   "metadata": {},
   "source": [
    "#### Calibration Rotation for day_2"
   ]
  },
  {
   "cell_type": "code",
   "execution_count": 18,
   "metadata": {},
   "outputs": [
    {
     "name": "stderr",
     "output_type": "stream",
     "text": [
      "100%|██████████| 596/596 [06:55<00:00,  1.43it/s]\n"
     ]
    }
   ],
   "source": [
    "plt.rcParams['figure.figsize'] = [8, 8]\n",
    "calibration_dataset = dataloader.CONSTANCEDATASET(\"/media/dennis/Extreme SSD/constance_stereo_imu\", day=2, sequence=\"calib\")\n",
    "imu_stereo_calib = calibrate_imu_stereo.ImuStereoCalibration(model, norm, calibration_dataset, seq_from = 0, seq_to = len(calibration_dataset), degrees=True, debug=False, resize_factor=0.5)\n",
    "calibration_mat_day_2 = imu_stereo_calib.calibrate(minDisparity = 0, numDisparities=160, blocksize=9)\n",
    "del calibration_dataset"
   ]
  },
  {
   "cell_type": "markdown",
   "metadata": {},
   "source": [
    "#### Evaluation day 2, sequence 5"
   ]
  },
  {
   "cell_type": "code",
   "execution_count": 19,
   "metadata": {},
   "outputs": [
    {
     "name": "stderr",
     "output_type": "stream",
     "text": [
      "100%|██████████| 597/597 [07:05<00:00,  1.40it/s]\n"
     ]
    },
    {
     "name": "stdout",
     "output_type": "stream",
     "text": [
      "Misorientation angle in degree:  0.18315330602343452\n",
      "Confidence Intervalls in degrees (2.5, 97.5) quantile:  0.17320805543375203 0.19239929207480075\n",
      "Misorientation angle in degree:  35.80244279848965\n",
      "Confidence Intervalls in degrees (2.5, 97.5) quantile:  33.4758694935343 37.88542388152431\n",
      "Misorientation angle in degree:  0.13510833272362988\n",
      "Confidence Intervalls in degrees (2.5, 97.5) quantile:  0.12519283233793443 0.14654956268413305\n"
     ]
    }
   ],
   "source": [
    "dataset_d2_5 = dataloader.CONSTANCEDATASET(\"/media/dennis/Extreme SSD/constance_stereo_imu\", day=2, sequence=\"5\")\n",
    "stereo_mats_5, imu_mats_5 =  rots_per_sequence(dataset_d2_5, model, norm, calibration_mat_day_2)\n",
    "integrated_gyro_mats_5, gyro_mats_5 = get_gyro_measurments(dataset_d2_5)\n",
    "filtered_mats_5 = complementary_filter(stereo_mats_5, gyro_mats_5)\n",
    "print_ama(imu_mats_5, stereo_mats_5)\n",
    "print_ama(imu_mats_5, integrated_gyro_mats_5)\n",
    "print_ama(imu_mats_5, filtered_mats_5)"
   ]
  },
  {
   "cell_type": "code",
   "execution_count": 20,
   "metadata": {},
   "outputs": [],
   "source": [
    "del dataset_d2_5"
   ]
  },
  {
   "cell_type": "markdown",
   "metadata": {},
   "source": [
    "#### Evaluation day 2, sequence 6"
   ]
  },
  {
   "cell_type": "code",
   "execution_count": 21,
   "metadata": {},
   "outputs": [
    {
     "name": "stderr",
     "output_type": "stream",
     "text": [
      "100%|██████████| 439/439 [05:22<00:00,  1.36it/s]\n"
     ]
    },
    {
     "name": "stdout",
     "output_type": "stream",
     "text": [
      "Misorientation angle in degree:  0.18331497454670886\n",
      "Confidence Intervalls in degrees (2.5, 97.5) quantile:  0.1723665907833313 0.19229792359908196\n",
      "Misorientation angle in degree:  5.7173529263820875\n",
      "Confidence Intervalls in degrees (2.5, 97.5) quantile:  5.478523922058683 5.91700174553075\n",
      "Misorientation angle in degree:  0.15920080835617495\n",
      "Confidence Intervalls in degrees (2.5, 97.5) quantile:  0.1355993380643809 0.18643792102330617\n"
     ]
    }
   ],
   "source": [
    "dataset_d2_6 = dataloader.CONSTANCEDATASET(\"/media/dennis/Extreme SSD/constance_stereo_imu\", day=2, sequence=\"6\")\n",
    "stereo_mats_6, imu_mats_6 =  rots_per_sequence(dataset_d2_6, model, norm, calibration_mat_day_2)\n",
    "integrated_gyro_mats_6, gyro_mats_6 = get_gyro_measurments(dataset_d2_6)\n",
    "filtered_mats_6 = complementary_filter(stereo_mats_6, gyro_mats_6)\n",
    "print_ama(imu_mats_6, stereo_mats_6)\n",
    "print_ama(imu_mats_6, integrated_gyro_mats_6)\n",
    "print_ama(imu_mats_6, filtered_mats_6)"
   ]
  },
  {
   "cell_type": "code",
   "execution_count": 22,
   "metadata": {},
   "outputs": [],
   "source": [
    "del dataset_d2_6"
   ]
  },
  {
   "cell_type": "markdown",
   "metadata": {},
   "source": [
    "#### Evaluation day 2, sequence 7"
   ]
  },
  {
   "cell_type": "code",
   "execution_count": 23,
   "metadata": {},
   "outputs": [
    {
     "name": "stderr",
     "output_type": "stream",
     "text": [
      "100%|██████████| 1016/1016 [13:36<00:00,  1.24it/s]\n"
     ]
    },
    {
     "name": "stdout",
     "output_type": "stream",
     "text": [
      "Misorientation angle in degree:  1.6040704358249624\n",
      "Confidence Intervalls in degrees (2.5, 97.5) quantile:  1.4401604798374532 1.78634812391366\n",
      "Misorientation angle in degree:  11.997248570189218\n",
      "Confidence Intervalls in degrees (2.5, 97.5) quantile:  11.49057288300878 12.481259168253423\n",
      "Misorientation angle in degree:  0.9674718511320815\n",
      "Confidence Intervalls in degrees (2.5, 97.5) quantile:  0.9086228084068327 1.029257888807806\n"
     ]
    }
   ],
   "source": [
    "dataset_d2_7 = dataloader.CONSTANCEDATASET(\"/media/dennis/Extreme SSD/constance_stereo_imu\", day=2, sequence=\"7\")\n",
    "stereo_mats_7, imu_mats_7 =  rots_per_sequence(dataset_d2_7, model, norm, calibration_mat_day_2)\n",
    "integrated_gyro_mats_7, gyro_mats_7 = get_gyro_measurments(dataset_d2_7)\n",
    "filtered_mats_7 = complementary_filter(stereo_mats_7, gyro_mats_7)\n",
    "print_ama(imu_mats_7, stereo_mats_7)\n",
    "print_ama(imu_mats_7, integrated_gyro_mats_7)\n",
    "print_ama(imu_mats_7, filtered_mats_7)"
   ]
  },
  {
   "cell_type": "code",
   "execution_count": 24,
   "metadata": {},
   "outputs": [],
   "source": [
    "del dataset_d2_7"
   ]
  },
  {
   "cell_type": "markdown",
   "metadata": {},
   "source": [
    "#### Evaluation day 2, sequence 8"
   ]
  },
  {
   "cell_type": "code",
   "execution_count": 25,
   "metadata": {},
   "outputs": [
    {
     "name": "stderr",
     "output_type": "stream",
     "text": [
      "100%|██████████| 584/584 [06:59<00:00,  1.39it/s]\n"
     ]
    },
    {
     "name": "stdout",
     "output_type": "stream",
     "text": [
      "Misorientation angle in degree:  0.42662841341943014\n",
      "Confidence Intervalls in degrees (2.5, 97.5) quantile:  0.39991936408273737 0.4548578395931814\n",
      "Misorientation angle in degree:  13.01855675551615\n",
      "Confidence Intervalls in degrees (2.5, 97.5) quantile:  12.384965973043919 13.623500395942905\n",
      "Misorientation angle in degree:  0.23249645310382994\n",
      "Confidence Intervalls in degrees (2.5, 97.5) quantile:  0.21858862679326727 0.24702029056115415\n"
     ]
    }
   ],
   "source": [
    "dataset_d2_8 = dataloader.CONSTANCEDATASET(\"/media/dennis/Extreme SSD/constance_stereo_imu\", day=2, sequence=\"8\")\n",
    "stereo_mats_8, imu_mats_8 =  rots_per_sequence(dataset_d2_8, model, norm, calibration_mat_day_2)\n",
    "integrated_gyro_mats_8, gyro_mats_8 = get_gyro_measurments(dataset_d2_8)\n",
    "filtered_mats_8 = complementary_filter(stereo_mats_8, gyro_mats_8)\n",
    "print_ama(imu_mats_8, stereo_mats_8)\n",
    "print_ama(imu_mats_8, integrated_gyro_mats_8)\n",
    "print_ama(imu_mats_8, filtered_mats_8)"
   ]
  },
  {
   "cell_type": "code",
   "execution_count": 26,
   "metadata": {},
   "outputs": [],
   "source": [
    "del dataset_d2_8"
   ]
  },
  {
   "cell_type": "code",
   "execution_count": 27,
   "metadata": {},
   "outputs": [
    {
     "name": "stdout",
     "output_type": "stream",
     "text": [
      "Misorientation angle in degree:  0.18556148907795714\n",
      "Confidence Intervalls in degrees (2.5, 97.5) quantile:  0.17890876016886462 0.19206838122756512\n",
      "Misorientation angle in degree:  40.61837018363317\n",
      "Confidence Intervalls in degrees (2.5, 97.5) quantile:  39.557591758582575 41.66153157901051\n",
      "Misorientation angle in degree:  0.17874917365804138\n",
      "Confidence Intervalls in degrees (2.5, 97.5) quantile:  0.1709215781148951 0.18633206775766925\n"
     ]
    }
   ],
   "source": [
    "imu_mats = (imu_mats_0 + imu_mats_1)\n",
    "stereo_mats = (stereo_mats_0 + stereo_mats_1 + stereo_mats_2 + stereo_mats_3 + stereo_mats_4 + stereo_mats_5 + stereo_mats_6 + stereo_mats_7 + stereo_mats_8)\n",
    "integrated_gyro_mats = (integrated_gyro_mats_0 + integrated_gyro_mats_1 + integrated_gyro_mats_2 + integrated_gyro_mats_3 + integrated_gyro_mats_4 + integrated_gyro_mats_5 + integrated_gyro_mats_6 + integrated_gyro_mats_7 + integrated_gyro_mats_8)\n",
    "filtered_mats = (filtered_mats_0 + filtered_mats_1 + filtered_mats_2 + filtered_mats_3 + filtered_mats_4 + filtered_mats_5 + filtered_mats_6 + filtered_mats_7 + filtered_mats_8)\n",
    "\n",
    "print_ama(imu_mats, stereo_mats)\n",
    "print_ama(imu_mats, integrated_gyro_mats)\n",
    "print_ama(imu_mats, filtered_mats)"
   ]
  }
 ],
 "metadata": {
  "interpreter": {
   "hash": "466a442d1b3789a57452e83e10bf85eeea52777d75d8ea11768bf848bfb75b70"
  },
  "kernelspec": {
   "display_name": "Python 3 (ipykernel)",
   "language": "python",
   "name": "python3"
  },
  "language_info": {
   "codemirror_mode": {
    "name": "ipython",
    "version": 3
   },
   "file_extension": ".py",
   "mimetype": "text/x-python",
   "name": "python",
   "nbconvert_exporter": "python",
   "pygments_lexer": "ipython3",
   "version": "3.8.10"
  }
 },
 "nbformat": 4,
 "nbformat_minor": 2
}
