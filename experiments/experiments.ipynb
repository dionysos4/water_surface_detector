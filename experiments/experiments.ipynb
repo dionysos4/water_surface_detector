{
 "cells": [
  {
   "cell_type": "code",
   "execution_count": 1,
   "metadata": {},
   "outputs": [],
   "source": [
    "%load_ext autoreload\n",
    "%autoreload 2\n",
    "from utils import dataloader, utils, calibrate_imu_stereo\n",
    "import torch\n",
    "from models.resnet34_encoder_decoder import ResNet, FCN8s\n",
    "from torchvision import transforms\n",
    "import matplotlib.pyplot as plt\n",
    "import cv2\n",
    "from scipy.spatial.transform import Rotation\n",
    "import numpy as np\n",
    "import math\n",
    "from tqdm import tqdm\n",
    "import gc\n",
    "import torchvision.models as models\n",
    "import time"
   ]
  },
  {
   "attachments": {},
   "cell_type": "markdown",
   "metadata": {},
   "source": [
    "### Set seed for reproducibility"
   ]
  },
  {
   "cell_type": "code",
   "execution_count": 2,
   "metadata": {},
   "outputs": [],
   "source": [
    "np.random.seed(1133)"
   ]
  },
  {
   "cell_type": "markdown",
   "metadata": {},
   "source": [
    "### returns imu and stereo rotation matrices for a sequence"
   ]
  },
  {
   "cell_type": "code",
   "execution_count": 3,
   "metadata": {},
   "outputs": [],
   "source": [
    "def rots_per_sequence(dataset, model, norm, calibration_mat):\n",
    "    \"\"\"\n",
    "    Computes roll and pitch via stereo and aligns it to the imu. Performs it on the whole sequence.\n",
    "    \n",
    "    Parameters\n",
    "    ----------\n",
    "    dataset : torch dataset\n",
    "        contains stereo images, calibration data and imu data\n",
    "    model : nn.Model\n",
    "        segmentation CNN (VGG based Encoder Decoder)\n",
    "    norm : torch transformation\n",
    "        function to normalize images for CNN input\n",
    "    calibration_mat : np.array\n",
    "        calibration matrix to align stereo and imu\n",
    "    return: tuple\n",
    "        tuple[0] : stereo estimated orientation as 3x3 matrix (already calibrated to imu)\n",
    "        tuple[1] : imu orientation as 3x3 matrix\n",
    "        tuple[2] : inference times\n",
    "        tuple[3] : disparity and dept computation time\n",
    "    \"\"\"\n",
    "\n",
    "    stereo_calibrated_mats = []\n",
    "    stereo_uncalibrated_mats = []\n",
    "    imu_mats = []\n",
    "    prediction_time = []\n",
    "    pc_computation_time = []\n",
    "\n",
    "    for j in tqdm(range(len(dataset))):\n",
    "        sample = dataset[j]\n",
    "        \n",
    "        img_l = sample[\"img_l\"] / 255\n",
    "        K_l = sample[\"K_l\"]\n",
    "        D_l = sample[\"D_l\"]\n",
    "        R_l = sample[\"R_l\"]\n",
    "        P_l = sample[\"P_l\"]\n",
    "        img_r = sample[\"img_r\"] / 255\n",
    "        K_r = sample[\"K_r\"]\n",
    "        D_r = sample[\"D_r\"]\n",
    "        R_r = sample[\"R_r\"]\n",
    "        P_r = sample[\"P_r\"]\n",
    "        R = sample[\"R\"]\n",
    "        T = sample[\"T\"]\n",
    "        imu = sample[\"imu\"]\n",
    "    \n",
    "        # Intrisic rotation aerospace sequence (Z-Y’-X”) yaw, pitch and roll\n",
    "        # quaternion to matrix conversion: https://www.euclideanspace.com/maths/geometry/rotations/conversions/quaternionToMatrix/index.htm\n",
    "        imu = Rotation.from_quat(imu).as_euler(\"ZYX\", degrees=False)\n",
    "        imu_mat = Rotation.from_euler(\"ZYX\", [0., imu[1], imu[2]], degrees=False).as_matrix()\n",
    "\n",
    "        map1_left, map2_left = cv2.initUndistortRectifyMap(K_l, D_l, R_l, P_l, (img_l.shape[1], img_l.shape[0]), cv2.CV_32FC1)\n",
    "        map1_right, map2_right = cv2.initUndistortRectifyMap(K_r, D_r, R_r, P_r, (img_r.shape[1], img_r.shape[0]), cv2.CV_32FC1)\n",
    "        \n",
    "        img_l = cv2.remap(img_l, map1_left, map2_left, cv2.INTER_LINEAR)\n",
    "        img_r = cv2.remap(img_r, map1_right, map2_right, cv2.INTER_LINEAR)\n",
    "\n",
    "        ################ estimate horizon with plane regression ####################################################################\n",
    "        res_img = cv2.resize(img_l, dsize=(960, 640), interpolation=cv2.INTER_CUBIC)\n",
    "        # Perform forward pass with resized image as input tensor\n",
    "        trans1 = transforms.ToTensor()\n",
    "        input_tensor = norm(trans1(res_img)).to(\"cuda:0\")\n",
    "        prediction_begin = time.time()\n",
    "        with torch.no_grad():\n",
    "            output = model(input_tensor.unsqueeze(0).float())\n",
    "        prediction_end = time.time()\n",
    "        prediction_time.append(prediction_end-prediction_begin)\n",
    "        # Binarize output with a high threshold (less false positives (but also less true positives))\n",
    "        output = utils.binarize(torch.squeeze(output.data.cpu()), activation=\"sigmoid\", threshold=0.5).numpy()\n",
    "        res_out = cv2.resize(output, dsize=(img_l.shape[1], img_l.shape[0]), interpolation=cv2.INTER_CUBIC)\n",
    "        res_out *= 255\n",
    "        res_out = res_out.astype(np.uint8)\n",
    "        # # Mask original image\n",
    "        img_l_masked = cv2.bitwise_and(img_l, img_l, mask = res_out)\n",
    "\n",
    "        img_l_masked_resized, img_r_resized, P_l_resize, P_r_resize = utils.resize_img_and_projection(img_l_masked, img_r, P_l, P_r, 0.5)\n",
    "\n",
    "        pc_begin = time.time()\n",
    "        pc_water, disparity = utils.compute_pointcloud((img_l_masked_resized * 255).astype(\"uint8\"), (img_r_resized * 255).astype(\"uint8\"), \n",
    "                                                        P_l_resize, P_r_resize, minDisparity=0, numDisparities=160, blocksize=9)\n",
    "        pc_end = time.time()\n",
    "        pc_computation_time.append(pc_end-pc_begin)\n",
    "        #######################################\n",
    "        pc_water = pc_water[pc_water[:,2]<=40]\n",
    "\n",
    "        plane_begin = time.time()\n",
    "        normal, support = utils.calc_plane(pc_water, var_index=[0,2,1])\n",
    "        normal = np.asarray(normal)\n",
    "        support = np.asarray(support)\n",
    "        normal = 1 / np.sqrt(np.sum(normal**2)) * normal\n",
    "        plane_end = time.time()\n",
    "        #print(\"plane \", plane_end-plane_begin)\n",
    "        \n",
    "        roll, pitch = utils.normal_to_euler(normal, degrees=False)\n",
    "        stereo_uncalibrated_mat = Rotation.from_euler(\"ZYX\", [0., pitch, roll], degrees=False).as_matrix()\n",
    "        end = time.time()\n",
    "        #print(\"time\", end-start)\n",
    "        stereo_calibrated_mat = np.dot(stereo_uncalibrated_mat, calibration_mat)\n",
    "        stereo_uncalibrated_mats.append(stereo_uncalibrated_mat)\n",
    "        stereo_calibrated_mats.append(stereo_calibrated_mat)\n",
    "        imu_mats.append(imu_mat)\n",
    "                \n",
    "    return stereo_calibrated_mats, imu_mats, prediction_time, pc_computation_time"
   ]
  },
  {
   "cell_type": "markdown",
   "metadata": {},
   "source": [
    "### average misorientation angle (https://jsdajournal.springeropen.com/articles/10.1186/s40488-015-0032-x)"
   ]
  },
  {
   "cell_type": "code",
   "execution_count": 4,
   "metadata": {},
   "outputs": [],
   "source": [
    "def print_ama(imu_mats, stereo_mats):\n",
    "    \"\"\"\n",
    "    Computes and prints the AMA and confidence intervals\n",
    "    \n",
    "    Parameters\n",
    "    ----------\n",
    "    imu_mats : list\n",
    "        list of imu measurements per timestep (3x3 matrices) \n",
    "    stereo_mats : list\n",
    "        list of stereo estimated orientation per timestep (3x3 matrices)\n",
    "    \"\"\"\n",
    "    ### create dataset for bootstrapping\n",
    "    diff_mats = []\n",
    "    for i in range(len(imu_mats)):\n",
    "        stereo_calibrated_mat = stereo_mats[i]\n",
    "        imu_mat = imu_mats[i]\n",
    "        diff_mats.append(np.dot(imu_mat, stereo_calibrated_mat.T))\n",
    "    diff_mats = np.array(diff_mats)\n",
    "\n",
    "    ### compute average misorientation angle\n",
    "    sum_diff_mats = np.zeros((3,3))\n",
    "    for i in range(diff_mats.shape[0]):\n",
    "        sum_diff_mats += diff_mats[i]\n",
    "    avg_diff_mat = sum_diff_mats / diff_mats.shape[0]\n",
    "    U,S,W = np.linalg.svd(avg_diff_mat)\n",
    "    M = np.dot(U,W)\n",
    "\n",
    "    AMA = []\n",
    "    for i in range(diff_mats.shape[0]):\n",
    "        mis = np.arccos((np.trace(np.dot(diff_mats[i].T, M)) -1) / 2)\n",
    "        AMA.append(mis)\n",
    "    print(\"Misorientation angle in degree: \", np.mean(np.degrees(AMA)))\n",
    "\n",
    "\n",
    "    ### Bootstrapping ###\n",
    "    bootstrepping_iterations = 1000\n",
    "    AMA_per_sample = []\n",
    "    for k in range(bootstrepping_iterations):\n",
    "        sample_idx = np.random.randint(0, diff_mats.shape[0], diff_mats.shape[0])\n",
    "        sample = diff_mats[sample_idx]\n",
    "\n",
    "        sum_diff_mats = np.zeros((3,3))\n",
    "        for i in range(sample.shape[0]):\n",
    "            sum_diff_mats += sample[i]\n",
    "        avg_diff_mat = sum_diff_mats / sample.shape[0]\n",
    "        U,S,W = np.linalg.svd(avg_diff_mat)\n",
    "        M = np.dot(U,W)\n",
    "\n",
    "        AMA = []\n",
    "        for i in range(sample.shape[0]):\n",
    "            mis = np.arccos((np.trace(np.dot(sample[i].T, M)) -1) / 2)\n",
    "            AMA.append(mis)\n",
    "\n",
    "        sum_ama = 0\n",
    "        for i in range(len(AMA)):\n",
    "            sum_ama += AMA[i]\n",
    "        AMA_per_sample.append(np.degrees(sum_ama / len(AMA)))\n",
    "\n",
    "    print(\"Confidence Intervalls in degrees (2.5, 97.5) quantile: \", np.quantile(AMA_per_sample, 0.025), np.quantile(AMA_per_sample, 0.975))"
   ]
  },
  {
   "cell_type": "code",
   "execution_count": 5,
   "metadata": {},
   "outputs": [],
   "source": [
    "def get_gyro_measurments(dataset):\n",
    "    \"\"\"\n",
    "    return gyro measurements and integrated orientations\n",
    "    \n",
    "    Parameters\n",
    "    ----------\n",
    "    dataset : torch dataset\n",
    "        contains gyro measurements \n",
    "    \n",
    "    return: tuple\n",
    "        tuple[0] : integrated orientations \n",
    "        tuple[1] : gyro measurements\n",
    "    \"\"\"\n",
    "    integrated_mats = []\n",
    "    gyro_mats = [Rotation.from_quat(dataset[0][\"dq\"]).as_matrix()]\n",
    "    integrated_measurements = Rotation.from_quat(dataset[0][\"imu\"]).as_matrix()\n",
    "    integrated_mats.append(integrated_measurements)\n",
    "    for i in range(1, len(dataset)): \n",
    "        gyro = dataset[i][\"dq\"]\n",
    "        gyro = Rotation.from_quat(gyro).as_matrix()\n",
    "        integrated_measurements = integrated_measurements @ gyro\n",
    "        integrated_mats.append(integrated_measurements)\n",
    "        gyro_mats.append(gyro)\n",
    "    return integrated_mats, gyro_mats"
   ]
  },
  {
   "cell_type": "code",
   "execution_count": 6,
   "metadata": {},
   "outputs": [],
   "source": [
    "def complementary_filter(stereo_mats, gyro_mats):\n",
    "    \"\"\"\n",
    "    Fusion of stereo estimation and gyro data via complementary filter\n",
    "    \n",
    "    Parameters\n",
    "    ----------\n",
    "    stereo_mats : list\n",
    "        contains stereo orientation measurements (3x3 matrices)\n",
    "    gyro_mats : list\n",
    "        contains gyro measurements (3x3 matrices)\n",
    "    \n",
    "    return: list\n",
    "        fused orientation (3x3 matrices)\n",
    "    \"\"\"\n",
    "    roll = 0\n",
    "    pitch = 0\n",
    "    filtered_mats = []\n",
    "    for i in range(len(stereo_mats)):\n",
    "        stereo_euler = Rotation.from_matrix(stereo_mats[i]).as_euler(\"ZYX\", degrees=False)\n",
    "        gyro_euler = Rotation.from_matrix(gyro_mats[i]).as_euler(\"ZYX\", degrees=False)\n",
    "        stereo_pitch = stereo_euler[1]\n",
    "        stereo_roll = stereo_euler[2]\n",
    "        gyro_pitch = gyro_euler[1]\n",
    "        gyro_roll = gyro_euler[2]\n",
    "\n",
    "        # filter\n",
    "        roll = 0.8 * (roll + (gyro_roll * (1. / 1))) + 0.2 * stereo_roll        \n",
    "        pitch = 0.8 * (pitch + (gyro_pitch * (1. / 1))) + 0.2 * stereo_pitch\n",
    "\n",
    "        filtered_mats.append(Rotation.from_euler(\"ZYX\", [0, pitch, roll]).as_matrix())\n",
    "    return filtered_mats"
   ]
  },
  {
   "cell_type": "markdown",
   "metadata": {},
   "source": [
    "### load model parameters"
   ]
  },
  {
   "cell_type": "code",
   "execution_count": 7,
   "metadata": {},
   "outputs": [],
   "source": [
    "RESNET_MODEL_PATH = \"models/ResNet34_Enc_Dec_Misc_Constance\"\n",
    "device = torch.device('cuda:0' if torch.cuda.is_available() else 'cpu')\n",
    "resnet34 = models.resnet34(pretrained=True)\n",
    "res_model = ResNet(resnet34)\n",
    "model = FCN8s(res_model, 1).to(device)\n",
    "model.load_state_dict(torch.load(RESNET_MODEL_PATH))\n",
    "model.eval()\n",
    "# Mean and standard deviation for all channels of the 'WaterMisc' Dataset\n",
    "mean, std = ([0.4454203248023987, 0.4749860167503357, 0.4680652916431427], [0.2575828433036804, 0.2523757517337799, 0.2858140468597412])\n",
    "\n",
    "# Transformation to normalize and unnormalize input images\n",
    "norm = transforms.Normalize(mean, std)"
   ]
  },
  {
   "cell_type": "markdown",
   "metadata": {},
   "source": [
    "#### Calibration Rotation for day_1"
   ]
  },
  {
   "cell_type": "code",
   "execution_count": 8,
   "metadata": {},
   "outputs": [
    {
     "name": "stderr",
     "output_type": "stream",
     "text": [
      "100%|██████████| 596/596 [06:46<00:00,  1.46it/s]\n"
     ]
    }
   ],
   "source": [
    "plt.rcParams['figure.figsize'] = [8, 8]\n",
    "calibration_dataset = dataloader.CONSTANCEDATASET(\"/media/dennis/Extreme SSD/constance_stereo_imu\", day=1, sequence=\"calib\")\n",
    "imu_stereo_calib = calibrate_imu_stereo.ImuStereoCalibration(model, norm, calibration_dataset, seq_from = 0, seq_to = len(calibration_dataset), degrees=True, debug=False, resize_factor=0.5)\n",
    "calibration_mat_day_1 = imu_stereo_calib.calibrate(minDisparity = 0, numDisparities=160, blocksize=9)\n",
    "del calibration_dataset"
   ]
  },
  {
   "cell_type": "markdown",
   "metadata": {},
   "source": [
    "#### Evaluation day 1, sequence 0"
   ]
  },
  {
   "cell_type": "code",
   "execution_count": 9,
   "metadata": {},
   "outputs": [
    {
     "name": "stderr",
     "output_type": "stream",
     "text": [
      "100%|██████████| 753/753 [08:23<00:00,  1.50it/s]\n"
     ]
    },
    {
     "name": "stdout",
     "output_type": "stream",
     "text": [
      "Misorientation angle in degree:  0.13842858238313802\n",
      "Confidence Intervalls in degrees (2.5, 97.5) quantile:  0.13318808628002246 0.14324071130550936\n",
      "Misorientation angle in degree:  11.672481132405382\n",
      "Confidence Intervalls in degrees (2.5, 97.5) quantile:  11.35407607486328 11.946847155682205\n",
      "Misorientation angle in degree:  0.12901438273315188\n",
      "Confidence Intervalls in degrees (2.5, 97.5) quantile:  0.12229580355291544 0.136683255318897\n"
     ]
    }
   ],
   "source": [
    "dataset_d1_0 = dataloader.CONSTANCEDATASET(\"/media/dennis/Extreme SSD/constance_stereo_imu\", day=1, sequence=\"0\")\n",
    "stereo_mats_0, imu_mats_0, prediction_time_0, pc_computation_time_0 =  rots_per_sequence(dataset_d1_0, model, norm, calibration_mat_day_1)\n",
    "integrated_gyro_mats_0, gyro_mats_0 = get_gyro_measurments(dataset_d1_0)\n",
    "filtered_mats_0 = complementary_filter(stereo_mats_0, gyro_mats_0)\n",
    "print_ama(imu_mats_0, stereo_mats_0)\n",
    "print_ama(imu_mats_0, integrated_gyro_mats_0)\n",
    "print_ama(imu_mats_0, filtered_mats_0)"
   ]
  },
  {
   "cell_type": "code",
   "execution_count": 10,
   "metadata": {},
   "outputs": [],
   "source": [
    "del dataset_d1_0"
   ]
  },
  {
   "cell_type": "markdown",
   "metadata": {},
   "source": [
    "#### Evaluation day 1, sequence 1"
   ]
  },
  {
   "cell_type": "code",
   "execution_count": 11,
   "metadata": {},
   "outputs": [
    {
     "name": "stderr",
     "output_type": "stream",
     "text": [
      "100%|██████████| 1119/1119 [12:36<00:00,  1.48it/s]\n"
     ]
    },
    {
     "name": "stdout",
     "output_type": "stream",
     "text": [
      "Misorientation angle in degree:  0.19719432711369445\n",
      "Confidence Intervalls in degrees (2.5, 97.5) quantile:  0.18776469366665804 0.20612046563500974\n",
      "Misorientation angle in degree:  26.347055061096164\n",
      "Confidence Intervalls in degrees (2.5, 97.5) quantile:  24.715412266068892 27.984835271347404\n",
      "Misorientation angle in degree:  0.19231671477011017\n",
      "Confidence Intervalls in degrees (2.5, 97.5) quantile:  0.18101399411559596 0.2042497134698251\n"
     ]
    }
   ],
   "source": [
    "dataset_d1_1 = dataloader.CONSTANCEDATASET(\"/media/dennis/Extreme SSD/constance_stereo_imu\", day=1, sequence=\"1\")\n",
    "stereo_mats_1, imu_mats_1, prediction_time_1, pc_computation_time_1 = rots_per_sequence(dataset_d1_1, model, norm, calibration_mat_day_1)\n",
    "integrated_gyro_mats_1, gyro_mats_1 = get_gyro_measurments(dataset_d1_1)\n",
    "filtered_mats_1 = complementary_filter(stereo_mats_1, gyro_mats_1)\n",
    "print_ama(imu_mats_1, stereo_mats_1)\n",
    "print_ama(imu_mats_1, integrated_gyro_mats_1)\n",
    "print_ama(imu_mats_1, filtered_mats_1)"
   ]
  },
  {
   "cell_type": "code",
   "execution_count": 12,
   "metadata": {},
   "outputs": [],
   "source": [
    "del dataset_d1_1"
   ]
  },
  {
   "cell_type": "markdown",
   "metadata": {},
   "source": [
    "#### Evaluation day 1, sequence 2"
   ]
  },
  {
   "cell_type": "code",
   "execution_count": 13,
   "metadata": {},
   "outputs": [
    {
     "name": "stderr",
     "output_type": "stream",
     "text": [
      "100%|██████████| 826/826 [08:54<00:00,  1.54it/s]\n"
     ]
    },
    {
     "name": "stdout",
     "output_type": "stream",
     "text": [
      "Misorientation angle in degree:  0.16498398707581174\n",
      "Confidence Intervalls in degrees (2.5, 97.5) quantile:  0.15800558203454668 0.1721152417509462\n",
      "Misorientation angle in degree:  8.646174361316849\n",
      "Confidence Intervalls in degrees (2.5, 97.5) quantile:  8.362556967521389 8.8894720054816\n",
      "Misorientation angle in degree:  0.1288491061978574\n",
      "Confidence Intervalls in degrees (2.5, 97.5) quantile:  0.12189627847994279 0.13683006547753424\n"
     ]
    }
   ],
   "source": [
    "dataset_d1_2 = dataloader.CONSTANCEDATASET(\"/media/dennis/Extreme SSD/constance_stereo_imu\", day=1, sequence=\"2\")\n",
    "stereo_mats_2, imu_mats_2, prediction_time_2, pc_computation_time_2 = rots_per_sequence(dataset_d1_2, model, norm, calibration_mat_day_1)\n",
    "integrated_gyro_mats_2, gyro_mats_2 = get_gyro_measurments(dataset_d1_2)\n",
    "filtered_mats_2 = complementary_filter(stereo_mats_2, gyro_mats_2)\n",
    "print_ama(imu_mats_2, stereo_mats_2)\n",
    "print_ama(imu_mats_2, integrated_gyro_mats_2)\n",
    "print_ama(imu_mats_2, filtered_mats_2)"
   ]
  },
  {
   "cell_type": "code",
   "execution_count": 14,
   "metadata": {},
   "outputs": [],
   "source": [
    "del dataset_d1_2"
   ]
  },
  {
   "cell_type": "markdown",
   "metadata": {},
   "source": [
    "#### Evaluation day 1, sequence 3"
   ]
  },
  {
   "cell_type": "code",
   "execution_count": 15,
   "metadata": {},
   "outputs": [
    {
     "name": "stderr",
     "output_type": "stream",
     "text": [
      "100%|██████████| 2390/2390 [26:55<00:00,  1.48it/s]\n"
     ]
    },
    {
     "name": "stdout",
     "output_type": "stream",
     "text": [
      "Misorientation angle in degree:  0.1796795228352441\n",
      "Confidence Intervalls in degrees (2.5, 97.5) quantile:  0.17480055493402694 0.1844152015839702\n",
      "Misorientation angle in degree:  23.864626083618727\n",
      "Confidence Intervalls in degrees (2.5, 97.5) quantile:  23.367326493563134 24.34821713591673\n",
      "Misorientation angle in degree:  0.1282025135776476\n",
      "Confidence Intervalls in degrees (2.5, 97.5) quantile:  0.12177351412433142 0.1354882707883505\n"
     ]
    }
   ],
   "source": [
    "dataset_d1_3 = dataloader.CONSTANCEDATASET(\"/media/dennis/Extreme SSD/constance_stereo_imu\", day=1, sequence=\"3\")\n",
    "stereo_mats_3, imu_mats_3, prediction_time_3, pc_computation_time_3 = rots_per_sequence(dataset_d1_3, model, norm, calibration_mat_day_1)\n",
    "integrated_gyro_mats_3, gyro_mats_3 = get_gyro_measurments(dataset_d1_3)\n",
    "filtered_mats_3 = complementary_filter(stereo_mats_3, gyro_mats_3)\n",
    "print_ama(imu_mats_3, stereo_mats_3)\n",
    "print_ama(imu_mats_3, integrated_gyro_mats_3)\n",
    "print_ama(imu_mats_3, filtered_mats_3)"
   ]
  },
  {
   "cell_type": "code",
   "execution_count": 16,
   "metadata": {},
   "outputs": [],
   "source": [
    "del dataset_d1_3"
   ]
  },
  {
   "cell_type": "markdown",
   "metadata": {},
   "source": [
    "#### Evaluation day 1, sequence 4"
   ]
  },
  {
   "cell_type": "code",
   "execution_count": 17,
   "metadata": {},
   "outputs": [
    {
     "name": "stderr",
     "output_type": "stream",
     "text": [
      "100%|██████████| 597/597 [07:11<00:00,  1.38it/s]\n"
     ]
    },
    {
     "name": "stdout",
     "output_type": "stream",
     "text": [
      "Misorientation angle in degree:  0.15520477824184073\n",
      "Confidence Intervalls in degrees (2.5, 97.5) quantile:  0.1464076823135768 0.16270641008457057\n",
      "Misorientation angle in degree:  8.180498987118323\n",
      "Confidence Intervalls in degrees (2.5, 97.5) quantile:  7.713077945132384 8.585811252123278\n",
      "Misorientation angle in degree:  0.1410983772735712\n",
      "Confidence Intervalls in degrees (2.5, 97.5) quantile:  0.13186285136420992 0.15303439435094235\n"
     ]
    }
   ],
   "source": [
    "dataset_d1_4 = dataloader.CONSTANCEDATASET(\"/media/dennis/Extreme SSD/constance_stereo_imu\", day=1, sequence=\"4\")\n",
    "stereo_mats_4, imu_mats_4, prediction_time_4, pc_computation_time_4 = rots_per_sequence(dataset_d1_4, model, norm, calibration_mat_day_1)\n",
    "integrated_gyro_mats_4, gyro_mats_4 = get_gyro_measurments(dataset_d1_4)\n",
    "filtered_mats_4 = complementary_filter(stereo_mats_4, gyro_mats_4)\n",
    "print_ama(imu_mats_4, stereo_mats_4)\n",
    "print_ama(imu_mats_4, integrated_gyro_mats_4)\n",
    "print_ama(imu_mats_4, filtered_mats_4)"
   ]
  },
  {
   "cell_type": "code",
   "execution_count": 18,
   "metadata": {},
   "outputs": [],
   "source": [
    "del dataset_d1_4"
   ]
  },
  {
   "cell_type": "markdown",
   "metadata": {},
   "source": [
    "#### Calibration Rotation for day_2"
   ]
  },
  {
   "cell_type": "code",
   "execution_count": 19,
   "metadata": {},
   "outputs": [
    {
     "name": "stderr",
     "output_type": "stream",
     "text": [
      "100%|██████████| 596/596 [06:49<00:00,  1.46it/s]\n"
     ]
    }
   ],
   "source": [
    "plt.rcParams['figure.figsize'] = [8, 8]\n",
    "calibration_dataset = dataloader.CONSTANCEDATASET(\"/media/dennis/Extreme SSD/constance_stereo_imu\", day=2, sequence=\"calib\")\n",
    "imu_stereo_calib = calibrate_imu_stereo.ImuStereoCalibration(model, norm, calibration_dataset, seq_from = 0, seq_to = len(calibration_dataset), degrees=True, debug=False, resize_factor=0.5)\n",
    "calibration_mat_day_2 = imu_stereo_calib.calibrate(minDisparity = 0, numDisparities=160, blocksize=9)\n",
    "del calibration_dataset"
   ]
  },
  {
   "cell_type": "markdown",
   "metadata": {},
   "source": [
    "#### Evaluation day 2, sequence 5"
   ]
  },
  {
   "cell_type": "code",
   "execution_count": 20,
   "metadata": {},
   "outputs": [
    {
     "name": "stderr",
     "output_type": "stream",
     "text": [
      "100%|██████████| 597/597 [06:42<00:00,  1.48it/s]\n"
     ]
    },
    {
     "name": "stdout",
     "output_type": "stream",
     "text": [
      "Misorientation angle in degree:  0.18873418873622252\n",
      "Confidence Intervalls in degrees (2.5, 97.5) quantile:  0.17893019915658173 0.1984988730946124\n",
      "Misorientation angle in degree:  35.802442798489615\n",
      "Confidence Intervalls in degrees (2.5, 97.5) quantile:  33.52071105412884 37.80321979104047\n",
      "Misorientation angle in degree:  0.14539040977462522\n",
      "Confidence Intervalls in degrees (2.5, 97.5) quantile:  0.13511466570572417 0.1572005621263549\n"
     ]
    }
   ],
   "source": [
    "dataset_d2_5 = dataloader.CONSTANCEDATASET(\"/media/dennis/Extreme SSD/constance_stereo_imu\", day=2, sequence=\"5\")\n",
    "stereo_mats_5, imu_mats_5, prediction_time_5, pc_computation_time_5 =  rots_per_sequence(dataset_d2_5, model, norm, calibration_mat_day_2)\n",
    "integrated_gyro_mats_5, gyro_mats_5 = get_gyro_measurments(dataset_d2_5)\n",
    "filtered_mats_5 = complementary_filter(stereo_mats_5, gyro_mats_5)\n",
    "print_ama(imu_mats_5, stereo_mats_5)\n",
    "print_ama(imu_mats_5, integrated_gyro_mats_5)\n",
    "print_ama(imu_mats_5, filtered_mats_5)"
   ]
  },
  {
   "cell_type": "code",
   "execution_count": 21,
   "metadata": {},
   "outputs": [],
   "source": [
    "del dataset_d2_5"
   ]
  },
  {
   "cell_type": "markdown",
   "metadata": {},
   "source": [
    "#### Evaluation day 2, sequence 6"
   ]
  },
  {
   "cell_type": "code",
   "execution_count": 22,
   "metadata": {},
   "outputs": [
    {
     "name": "stderr",
     "output_type": "stream",
     "text": [
      "100%|██████████| 439/439 [05:27<00:00,  1.34it/s]\n"
     ]
    },
    {
     "name": "stdout",
     "output_type": "stream",
     "text": [
      "Misorientation angle in degree:  0.19406901436583535\n",
      "Confidence Intervalls in degrees (2.5, 97.5) quantile:  0.1839584087990874 0.20340023704129973\n",
      "Misorientation angle in degree:  5.717352926382113\n",
      "Confidence Intervalls in degrees (2.5, 97.5) quantile:  5.498613672928683 5.910491812378123\n",
      "Misorientation angle in degree:  0.16501527207126954\n",
      "Confidence Intervalls in degrees (2.5, 97.5) quantile:  0.1423209943436659 0.19279771082394134\n"
     ]
    }
   ],
   "source": [
    "dataset_d2_6 = dataloader.CONSTANCEDATASET(\"/media/dennis/Extreme SSD/constance_stereo_imu\", day=2, sequence=\"6\")\n",
    "stereo_mats_6, imu_mats_6, prediction_time_6, pc_computation_time_6 = rots_per_sequence(dataset_d2_6, model, norm, calibration_mat_day_2)\n",
    "integrated_gyro_mats_6, gyro_mats_6 = get_gyro_measurments(dataset_d2_6)\n",
    "filtered_mats_6 = complementary_filter(stereo_mats_6, gyro_mats_6)\n",
    "print_ama(imu_mats_6, stereo_mats_6)\n",
    "print_ama(imu_mats_6, integrated_gyro_mats_6)\n",
    "print_ama(imu_mats_6, filtered_mats_6)"
   ]
  },
  {
   "cell_type": "code",
   "execution_count": 23,
   "metadata": {},
   "outputs": [],
   "source": [
    "del dataset_d2_6"
   ]
  },
  {
   "cell_type": "markdown",
   "metadata": {},
   "source": [
    "#### Evaluation day 2, sequence 7"
   ]
  },
  {
   "cell_type": "code",
   "execution_count": 24,
   "metadata": {},
   "outputs": [
    {
     "name": "stderr",
     "output_type": "stream",
     "text": [
      "100%|██████████| 1016/1016 [12:15<00:00,  1.38it/s]\n"
     ]
    },
    {
     "name": "stdout",
     "output_type": "stream",
     "text": [
      "Misorientation angle in degree:  0.6336928273913028\n",
      "Confidence Intervalls in degrees (2.5, 97.5) quantile:  0.5872320087599691 0.6861549828623473\n",
      "Misorientation angle in degree:  11.997248570189196\n",
      "Confidence Intervalls in degrees (2.5, 97.5) quantile:  11.472385834814448 12.454951204792158\n",
      "Misorientation angle in degree:  0.3387263225405888\n",
      "Confidence Intervalls in degrees (2.5, 97.5) quantile:  0.3223681383592588 0.35606653255329723\n"
     ]
    }
   ],
   "source": [
    "dataset_d2_7 = dataloader.CONSTANCEDATASET(\"/media/dennis/Extreme SSD/constance_stereo_imu\", day=2, sequence=\"7\")\n",
    "stereo_mats_7, imu_mats_7, prediction_time_7, pc_computation_time_7 = rots_per_sequence(dataset_d2_7, model, norm, calibration_mat_day_2)\n",
    "integrated_gyro_mats_7, gyro_mats_7 = get_gyro_measurments(dataset_d2_7)\n",
    "filtered_mats_7 = complementary_filter(stereo_mats_7, gyro_mats_7)\n",
    "print_ama(imu_mats_7, stereo_mats_7)\n",
    "print_ama(imu_mats_7, integrated_gyro_mats_7)\n",
    "print_ama(imu_mats_7, filtered_mats_7)"
   ]
  },
  {
   "cell_type": "code",
   "execution_count": 25,
   "metadata": {},
   "outputs": [],
   "source": [
    "del dataset_d2_7"
   ]
  },
  {
   "cell_type": "markdown",
   "metadata": {},
   "source": [
    "#### Evaluation day 2, sequence 8"
   ]
  },
  {
   "cell_type": "code",
   "execution_count": 26,
   "metadata": {},
   "outputs": [
    {
     "name": "stderr",
     "output_type": "stream",
     "text": [
      "100%|██████████| 584/584 [06:36<00:00,  1.47it/s]\n"
     ]
    },
    {
     "name": "stdout",
     "output_type": "stream",
     "text": [
      "Misorientation angle in degree:  0.45863957097043534\n",
      "Confidence Intervalls in degrees (2.5, 97.5) quantile:  0.43586642729154396 0.48363823121199223\n",
      "Misorientation angle in degree:  13.018556755516462\n",
      "Confidence Intervalls in degrees (2.5, 97.5) quantile:  12.358184998016586 13.621904818574931\n",
      "Misorientation angle in degree:  0.2497418463619289\n",
      "Confidence Intervalls in degrees (2.5, 97.5) quantile:  0.2346578684669472 0.2663957714534918\n"
     ]
    }
   ],
   "source": [
    "dataset_d2_8 = dataloader.CONSTANCEDATASET(\"/media/dennis/Extreme SSD/constance_stereo_imu\", day=2, sequence=\"8\")\n",
    "stereo_mats_8, imu_mats_8, prediction_time_8, pc_computation_time_8 = rots_per_sequence(dataset_d2_8, model, norm, calibration_mat_day_2)\n",
    "integrated_gyro_mats_8, gyro_mats_8 = get_gyro_measurments(dataset_d2_8)\n",
    "filtered_mats_8 = complementary_filter(stereo_mats_8, gyro_mats_8)\n",
    "print_ama(imu_mats_8, stereo_mats_8)\n",
    "print_ama(imu_mats_8, integrated_gyro_mats_8)\n",
    "print_ama(imu_mats_8, filtered_mats_8)"
   ]
  },
  {
   "cell_type": "code",
   "execution_count": 27,
   "metadata": {},
   "outputs": [],
   "source": [
    "del dataset_d2_8"
   ]
  },
  {
   "cell_type": "code",
   "execution_count": 28,
   "metadata": {},
   "outputs": [
    {
     "name": "stdout",
     "output_type": "stream",
     "text": [
      "Misorientation angle in degree:  0.18047845549779967\n",
      "Confidence Intervalls in degrees (2.5, 97.5) quantile:  0.1743223036829067 0.18646481716351135\n",
      "Misorientation angle in degree:  40.6183701836332\n",
      "Confidence Intervalls in degrees (2.5, 97.5) quantile:  39.47746239351728 41.71314227595228\n",
      "Misorientation angle in degree:  0.17392680238724487\n",
      "Confidence Intervalls in degrees (2.5, 97.5) quantile:  0.16634008852718826 0.18164514376044422\n"
     ]
    }
   ],
   "source": [
    "imu_mats = (imu_mats_0 + imu_mats_1)\n",
    "stereo_mats = (stereo_mats_0 + stereo_mats_1 + stereo_mats_2 + stereo_mats_3 + stereo_mats_4 + stereo_mats_5 + stereo_mats_6 + stereo_mats_7 + stereo_mats_8)\n",
    "integrated_gyro_mats = (integrated_gyro_mats_0 + integrated_gyro_mats_1 + integrated_gyro_mats_2 + integrated_gyro_mats_3 + integrated_gyro_mats_4 + integrated_gyro_mats_5 + integrated_gyro_mats_6 + integrated_gyro_mats_7 + integrated_gyro_mats_8)\n",
    "filtered_mats = (filtered_mats_0 + filtered_mats_1 + filtered_mats_2 + filtered_mats_3 + filtered_mats_4 + filtered_mats_5 + filtered_mats_6 + filtered_mats_7 + filtered_mats_8)\n",
    "\n",
    "print_ama(imu_mats, stereo_mats)\n",
    "print_ama(imu_mats, integrated_gyro_mats)\n",
    "print_ama(imu_mats, filtered_mats)"
   ]
  },
  {
   "attachments": {},
   "cell_type": "markdown",
   "metadata": {},
   "source": [
    "### Avg prediction time and avg disparity and reconstruction computation time"
   ]
  },
  {
   "cell_type": "code",
   "execution_count": 29,
   "metadata": {},
   "outputs": [
    {
     "name": "stdout",
     "output_type": "stream",
     "text": [
      "Avg prediction time:  0.005100760232397977\n",
      "Avg pc computation time:  0.2590683306829386\n"
     ]
    }
   ],
   "source": [
    "prediction_times = prediction_time_0 + prediction_time_1 + prediction_time_2 + prediction_time_3 + prediction_time_4 + prediction_time_5 + prediction_time_6 + prediction_time_7 + prediction_time_8\n",
    "pc_computation_times = pc_computation_time_0 + pc_computation_time_1 + pc_computation_time_2 + pc_computation_time_3 + pc_computation_time_4 + pc_computation_time_5 + pc_computation_time_6 + pc_computation_time_7 + pc_computation_time_8\n",
    "\n",
    "print(\"Avg prediction time: \", np.array(prediction_times).mean())\n",
    "print(\"Avg pc computation time: \", np.array(pc_computation_times).mean())"
   ]
  }
 ],
 "metadata": {
  "kernelspec": {
   "display_name": "torch",
   "language": "python",
   "name": "python3"
  },
  "language_info": {
   "codemirror_mode": {
    "name": "ipython",
    "version": 3
   },
   "file_extension": ".py",
   "mimetype": "text/x-python",
   "name": "python",
   "nbconvert_exporter": "python",
   "pygments_lexer": "ipython3",
   "version": "3.8.13"
  },
  "vscode": {
   "interpreter": {
    "hash": "b217e992df2403db0b9de090ee314288d6f0bee849e7ba4278c2249a611da357"
   }
  }
 },
 "nbformat": 4,
 "nbformat_minor": 2
}
